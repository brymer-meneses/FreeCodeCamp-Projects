{
  "nbformat": 4,
  "nbformat_minor": 0,
  "metadata": {
    "colab": {
      "name": "SMS - Classification.ipynb",
      "provenance": [],
      "collapsed_sections": [],
      "mount_file_id": "1FAT9VDa3dmTz2nTjvaGcYAcYR9tNstSY",
      "authorship_tag": "ABX9TyPaHMtaonj9z/rytzwuEyhf",
      "include_colab_link": true
    },
    "kernelspec": {
      "name": "python3",
      "display_name": "Python 3"
    }
  },
  "cells": [
    {
      "cell_type": "markdown",
      "metadata": {
        "id": "view-in-github",
        "colab_type": "text"
      },
      "source": [
        "<a href=\"https://colab.research.google.com/github/xBrymer/FreeCodeCamp-Projects/blob/master/Machine-Learning/SMS-Spam-Classification.ipynb\" target=\"_parent\"><img src=\"https://colab.research.google.com/assets/colab-badge.svg\" alt=\"Open In Colab\"/></a>"
      ]
    },
    {
      "cell_type": "code",
      "metadata": {
        "id": "6S0lXJ1gjP_X",
        "colab_type": "code",
        "colab": {}
      },
      "source": [
        "import tensorflow as tf\n",
        "import pandas as pd\n",
        "import numpy as np\n",
        "import matplotlib as plt\n"
      ],
      "execution_count": null,
      "outputs": []
    },
    {
      "cell_type": "code",
      "metadata": {
        "id": "Gz3jpbjCjfue",
        "colab_type": "code",
        "colab": {}
      },
      "source": [
        "TRAIN_DATA_URL = \"https://raw.githubusercontent.com/beaucarnes/fcc_python_curriculum/master/sms/train-data.tsv\"\n",
        "TEST_DATA_URL = \"https://raw.githubusercontent.com/beaucarnes/fcc_python_curriculum/master/sms/valid-data.tsv\"\n",
        "\n",
        "train_file_path = tf.keras.utils.get_file(\"train-data.tsv\", TRAIN_DATA_URL)\n",
        "test_file_path = tf.keras.utils.get_file(\"valid-data.tsv\", TEST_DATA_URL)"
      ],
      "execution_count": null,
      "outputs": []
    },
    {
      "cell_type": "code",
      "metadata": {
        "id": "RlJKUXDJjjZY",
        "colab_type": "code",
        "colab": {}
      },
      "source": [
        "train_df = pd.read_csv(train_file_path, sep='\\t')\n",
        "test_df = pd.read_csv(test_file_path, sep='\\t')\n",
        "\n",
        "column_labels = ['Label', 'Text']\n",
        "\n",
        "train_df.columns, test_df.columns = column_labels, column_labels"
      ],
      "execution_count": null,
      "outputs": []
    },
    {
      "cell_type": "code",
      "metadata": {
        "id": "Hlrd3LBQj-bT",
        "colab_type": "code",
        "colab": {
          "base_uri": "https://localhost:8080/",
          "height": 235
        },
        "outputId": "fb262c49-f72f-41b4-8dc1-66e0e1513dc5"
      },
      "source": [
        "print(train_df.head())\n",
        "print(test_df.head())"
      ],
      "execution_count": null,
      "outputs": [
        {
          "output_type": "stream",
          "text": [
            "  Label                                               Text\n",
            "0   ham                           you can never do nothing\n",
            "1   ham  now u sound like manky scouse boy steve,like! ...\n",
            "2   ham  mum say we wan to go then go... then she can s...\n",
            "3   ham  never y lei... i v lazy... got wat? dat day ü ...\n",
            "4   ham  in xam hall boy asked girl tell me the startin...\n",
            "  Label                                               Text\n",
            "0   ham         not much, just some textin'. how bout you?\n",
            "1   ham  i probably won't eat at all today. i think i'm...\n",
            "2   ham  don‘t give a flying monkeys wot they think and...\n",
            "3   ham                                who are you seeing?\n",
            "4   ham  your opinion about me? 1. over 2. jada 3. kusr...\n"
          ],
          "name": "stdout"
        }
      ]
    },
    {
      "cell_type": "code",
      "metadata": {
        "id": "1VCYbcN2kJcO",
        "colab_type": "code",
        "colab": {}
      },
      "source": [
        "column_labels = ['Text', 'Label']\n",
        "\n",
        "train_df = train_df.reindex(columns = column_labels)\n",
        "test_df = test_df.reindex(columns = column_labels)"
      ],
      "execution_count": null,
      "outputs": []
    },
    {
      "cell_type": "code",
      "metadata": {
        "id": "FScPGOtCks7w",
        "colab_type": "code",
        "colab": {}
      },
      "source": [
        "def classify_label(label):\n",
        "  if label == 'ham':\n",
        "    return 0\n",
        "  elif label == 'spam':\n",
        "    return 1"
      ],
      "execution_count": null,
      "outputs": []
    },
    {
      "cell_type": "code",
      "metadata": {
        "id": "UXsANoi-lWae",
        "colab_type": "code",
        "colab": {}
      },
      "source": [
        "train_df['Target'] = list(map(classify_label, train_df['Label']))\n",
        "test_df['Target'] = list(map(classify_label, test_df['Label'] ))"
      ],
      "execution_count": null,
      "outputs": []
    },
    {
      "cell_type": "code",
      "metadata": {
        "id": "GqjRvlHgsC_E",
        "colab_type": "code",
        "colab": {}
      },
      "source": [
        "train_df = train_df.drop('Label', axis = 1)\n",
        "test_df = test_df.drop('Label', axis =1)"
      ],
      "execution_count": null,
      "outputs": []
    },
    {
      "cell_type": "code",
      "metadata": {
        "id": "F2vzNpm9qrTR",
        "colab_type": "code",
        "colab": {
          "base_uri": "https://localhost:8080/",
          "height": 435
        },
        "outputId": "39be6853-84f9-4150-86d6-bf65e164fbb8"
      },
      "source": [
        "print(train_df.head(10))\n",
        "print()\n",
        "print(test_df.head(10))\n"
      ],
      "execution_count": null,
      "outputs": [
        {
          "output_type": "stream",
          "text": [
            "                                                Text  Target\n",
            "0                           you can never do nothing       0\n",
            "1  now u sound like manky scouse boy steve,like! ...       0\n",
            "2  mum say we wan to go then go... then she can s...       0\n",
            "3  never y lei... i v lazy... got wat? dat day ü ...       0\n",
            "4  in xam hall boy asked girl tell me the startin...       0\n",
            "5  genius what's up. how your brother. pls send h...       0\n",
            "6              they finally came to fix the ceiling.       0\n",
            "7  urgent! call 09066350750 from your landline. y...       1\n",
            "8  now that you have started dont stop. just pray...       0\n",
            "9  hello darlin ive finished college now so txt m...       0\n",
            "\n",
            "                                                Text  Target\n",
            "0         not much, just some textin'. how bout you?       0\n",
            "1  i probably won't eat at all today. i think i'm...       0\n",
            "2  don‘t give a flying monkeys wot they think and...       0\n",
            "3                                who are you seeing?       0\n",
            "4  your opinion about me? 1. over 2. jada 3. kusr...       0\n",
            "5    yesterday its with me only . now am going home.       0\n",
            "6                   yes. it's all innocent fun. o:-)       0\n",
            "7  a boy was late 2 home. his father: power of fr...       0\n",
            "8  is ur changes 2 da report big? cos i've alread...       0\n",
            "9  sorry about earlier. putting out fires.are you...       0\n"
          ],
          "name": "stdout"
        }
      ]
    },
    {
      "cell_type": "code",
      "metadata": {
        "id": "EsT8mS9GrHL-",
        "colab_type": "code",
        "colab": {}
      },
      "source": [
        "x_train, y_train = np.asarray(train_df['Text']), np.asarray(train_df['Target'])"
      ],
      "execution_count": null,
      "outputs": []
    },
    {
      "cell_type": "code",
      "metadata": {
        "id": "9H-IaHp0tKZr",
        "colab_type": "code",
        "colab": {}
      },
      "source": [
        "x_test, y_test = np.asarray(test_df['Text']), np.asarray(test_df['Target'])"
      ],
      "execution_count": null,
      "outputs": []
    },
    {
      "cell_type": "code",
      "metadata": {
        "id": "Fw_zAGWutan2",
        "colab_type": "code",
        "colab": {}
      },
      "source": [
        "import tensorflow_hub as hub\n",
        "\n",
        "pretrained_model = 'http://tfhub.dev/google/tf2-preview/gnews-swivel-20dim/1'\n",
        "hub_layer = hub.KerasLayer(pretrained_model, input_shape = [], dtype= tf.string, trainable = True)"
      ],
      "execution_count": null,
      "outputs": []
    },
    {
      "cell_type": "code",
      "metadata": {
        "id": "G2hfu058t8jG",
        "colab_type": "code",
        "colab": {}
      },
      "source": [
        "from tensorflow.keras.models import Sequential\n",
        "from tensorflow.keras.layers import Dense"
      ],
      "execution_count": null,
      "outputs": []
    },
    {
      "cell_type": "code",
      "metadata": {
        "id": "B906lHpiuC7r",
        "colab_type": "code",
        "colab": {}
      },
      "source": [
        "model = Sequential()\n",
        "\n",
        "model.add(hub_layer)\n",
        "model.add(Dense(16, activation = 'relu'))\n",
        "model.add(Dense(1, activation = 'sigmoid'))"
      ],
      "execution_count": null,
      "outputs": []
    },
    {
      "cell_type": "code",
      "metadata": {
        "id": "KLc0bnuQuO_A",
        "colab_type": "code",
        "colab": {}
      },
      "source": [
        "model.compile(\n",
        "    optimizer = 'adam',\n",
        "    loss = 'binary_crossentropy',\n",
        "    metrics = ['accuracy']\n",
        ")"
      ],
      "execution_count": null,
      "outputs": []
    },
    {
      "cell_type": "code",
      "metadata": {
        "id": "G3hofjTnuarc",
        "colab_type": "code",
        "colab": {
          "base_uri": "https://localhost:8080/",
          "height": 272
        },
        "outputId": "fae82263-3112-464f-a1e0-cfe9e8d3e93f"
      },
      "source": [
        "model.summary()"
      ],
      "execution_count": null,
      "outputs": [
        {
          "output_type": "stream",
          "text": [
            "Model: \"sequential\"\n",
            "_________________________________________________________________\n",
            "Layer (type)                 Output Shape              Param #   \n",
            "=================================================================\n",
            "keras_layer (KerasLayer)     (None, 20)                400020    \n",
            "_________________________________________________________________\n",
            "dense (Dense)                (None, 16)                336       \n",
            "_________________________________________________________________\n",
            "dense_1 (Dense)              (None, 1)                 17        \n",
            "=================================================================\n",
            "Total params: 400,373\n",
            "Trainable params: 400,373\n",
            "Non-trainable params: 0\n",
            "_________________________________________________________________\n"
          ],
          "name": "stdout"
        }
      ]
    },
    {
      "cell_type": "code",
      "metadata": {
        "id": "qswRq65BueTt",
        "colab_type": "code",
        "colab": {
          "base_uri": "https://localhost:8080/",
          "height": 783
        },
        "outputId": "518f3205-9a05-4db9-9d0e-a6c7595d52a6"
      },
      "source": [
        "model.fit(x_train, y_train, validation_data= (x_test, y_test), epochs = 20)"
      ],
      "execution_count": null,
      "outputs": [
        {
          "output_type": "stream",
          "text": [
            "Epoch 1/20\n",
            "131/131 [==============================] - 1s 8ms/step - loss: 0.4060 - accuracy: 0.8217 - val_loss: 0.2640 - val_accuracy: 0.9058\n",
            "Epoch 2/20\n",
            "131/131 [==============================] - 1s 7ms/step - loss: 0.2128 - accuracy: 0.9337 - val_loss: 0.1804 - val_accuracy: 0.9267\n",
            "Epoch 3/20\n",
            "131/131 [==============================] - 1s 7ms/step - loss: 0.1484 - accuracy: 0.9579 - val_loss: 0.1418 - val_accuracy: 0.9454\n",
            "Epoch 4/20\n",
            "131/131 [==============================] - 1s 6ms/step - loss: 0.1144 - accuracy: 0.9696 - val_loss: 0.1184 - val_accuracy: 0.9576\n",
            "Epoch 5/20\n",
            "131/131 [==============================] - 1s 7ms/step - loss: 0.0904 - accuracy: 0.9765 - val_loss: 0.1008 - val_accuracy: 0.9626\n",
            "Epoch 6/20\n",
            "131/131 [==============================] - 1s 7ms/step - loss: 0.0723 - accuracy: 0.9799 - val_loss: 0.0893 - val_accuracy: 0.9698\n",
            "Epoch 7/20\n",
            "131/131 [==============================] - 1s 7ms/step - loss: 0.0583 - accuracy: 0.9847 - val_loss: 0.0799 - val_accuracy: 0.9705\n",
            "Epoch 8/20\n",
            "131/131 [==============================] - 1s 7ms/step - loss: 0.0472 - accuracy: 0.9899 - val_loss: 0.0727 - val_accuracy: 0.9770\n",
            "Epoch 9/20\n",
            "131/131 [==============================] - 1s 7ms/step - loss: 0.0376 - accuracy: 0.9911 - val_loss: 0.0664 - val_accuracy: 0.9792\n",
            "Epoch 10/20\n",
            "131/131 [==============================] - 1s 7ms/step - loss: 0.0309 - accuracy: 0.9926 - val_loss: 0.0632 - val_accuracy: 0.9799\n",
            "Epoch 11/20\n",
            "131/131 [==============================] - 1s 7ms/step - loss: 0.0251 - accuracy: 0.9933 - val_loss: 0.0615 - val_accuracy: 0.9806\n",
            "Epoch 12/20\n",
            "131/131 [==============================] - 1s 7ms/step - loss: 0.0207 - accuracy: 0.9955 - val_loss: 0.0582 - val_accuracy: 0.9827\n",
            "Epoch 13/20\n",
            "131/131 [==============================] - 1s 7ms/step - loss: 0.0170 - accuracy: 0.9962 - val_loss: 0.0590 - val_accuracy: 0.9827\n",
            "Epoch 14/20\n",
            "131/131 [==============================] - 1s 7ms/step - loss: 0.0149 - accuracy: 0.9964 - val_loss: 0.0570 - val_accuracy: 0.9849\n",
            "Epoch 15/20\n",
            "131/131 [==============================] - 1s 7ms/step - loss: 0.0126 - accuracy: 0.9974 - val_loss: 0.0557 - val_accuracy: 0.9842\n",
            "Epoch 16/20\n",
            "131/131 [==============================] - 1s 7ms/step - loss: 0.0108 - accuracy: 0.9976 - val_loss: 0.0548 - val_accuracy: 0.9842\n",
            "Epoch 17/20\n",
            "131/131 [==============================] - 1s 6ms/step - loss: 0.0095 - accuracy: 0.9981 - val_loss: 0.0560 - val_accuracy: 0.9842\n",
            "Epoch 18/20\n",
            "131/131 [==============================] - 1s 7ms/step - loss: 0.0084 - accuracy: 0.9983 - val_loss: 0.0557 - val_accuracy: 0.9835\n",
            "Epoch 19/20\n",
            "131/131 [==============================] - 1s 7ms/step - loss: 0.0073 - accuracy: 0.9990 - val_loss: 0.0561 - val_accuracy: 0.9842\n",
            "Epoch 20/20\n",
            "131/131 [==============================] - 1s 7ms/step - loss: 0.0064 - accuracy: 0.9988 - val_loss: 0.0574 - val_accuracy: 0.9835\n"
          ],
          "name": "stdout"
        },
        {
          "output_type": "execute_result",
          "data": {
            "text/plain": [
              "<tensorflow.python.keras.callbacks.History at 0x7f7131e5f7b8>"
            ]
          },
          "metadata": {
            "tags": []
          },
          "execution_count": 27
        }
      ]
    },
    {
      "cell_type": "code",
      "metadata": {
        "id": "R7sCL8stuxJ3",
        "colab_type": "code",
        "colab": {}
      },
      "source": [
        "def predict_message(text):\n",
        "  predict = float(model.predict([text]))\n",
        "\n",
        "  if predict < 0.5:\n",
        "    label = 'ham'\n",
        "    return [predict, label]\n",
        "\n",
        "  elif predict >= 0.5:\n",
        "    label = 'spam'\n",
        "    return [predict, label]\n"
      ],
      "execution_count": null,
      "outputs": []
    },
    {
      "cell_type": "code",
      "metadata": {
        "id": "nbWoY9Gpwatm",
        "colab_type": "code",
        "colab": {
          "base_uri": "https://localhost:8080/",
          "height": 35
        },
        "outputId": "3309a4c9-c58f-47ba-bc19-b1136f3b51f5"
      },
      "source": [
        "def test_predictions():\n",
        "  test_messages = [\"how are you doing today\",\n",
        "                   \"sale today! to stop texts call 98912460324\",\n",
        "                   \"i dont want to go. can we try it a different day? available sat\",\n",
        "                   \"our new mobile video service is live. just install on your phone to start watching.\",\n",
        "                   \"you have won £1000 cash! call to claim your prize.\",\n",
        "                   \"i'll bring it tomorrow. don't forget the milk.\",\n",
        "                   \"wow, is your arm alright. that happened to me one time too\"\n",
        "                  ]\n",
        "\n",
        "  test_answers = [\"ham\", \"spam\", \"ham\", \"spam\", \"spam\", \"ham\", \"ham\"]\n",
        "  passed = True\n",
        "\n",
        "  for msg, ans in zip(test_messages, test_answers):\n",
        "    prediction = predict_message(msg)\n",
        "    if prediction[1] != ans:\n",
        "      passed = False\n",
        "\n",
        "  if passed:\n",
        "    print(\"You passed the challenge. Great job!\")\n",
        "  else:\n",
        "    print(\"You haven't passed yet. Keep trying.\")\n",
        "\n",
        "test_predictions()\n"
      ],
      "execution_count": null,
      "outputs": [
        {
          "output_type": "stream",
          "text": [
            "You passed the challenge. Great job!\n"
          ],
          "name": "stdout"
        }
      ]
    },
    {
      "cell_type": "code",
      "metadata": {
        "id": "eH1ILiPqxtbd",
        "colab_type": "code",
        "colab": {
          "base_uri": "https://localhost:8080/",
          "height": 35
        },
        "outputId": "692446ee-2f9b-4beb-d36b-3bf7306a4458"
      },
      "source": [
        "cd '/content/drive/My Drive/External Datasets/Models'"
      ],
      "execution_count": null,
      "outputs": [
        {
          "output_type": "stream",
          "text": [
            "/content/drive/My Drive/External Datasets/Models\n"
          ],
          "name": "stdout"
        }
      ]
    },
    {
      "cell_type": "code",
      "metadata": {
        "id": "Nz-4mkQmxwSQ",
        "colab_type": "code",
        "colab": {}
      },
      "source": [
        "model.save('SMS-SPAM-CLASSIFICATION.h5')"
      ],
      "execution_count": null,
      "outputs": []
    }
  ]
}